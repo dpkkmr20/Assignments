{
 "cells": [
  {
   "cell_type": "markdown",
   "id": "738f3ab1",
   "metadata": {},
   "source": [
    "### Qn.1 Print numbers from 1 to 5 using a while loop."
   ]
  },
  {
   "cell_type": "code",
   "execution_count": 2,
   "id": "caf8fa09",
   "metadata": {},
   "outputs": [
    {
     "name": "stdout",
     "output_type": "stream",
     "text": [
      "1 2 3 4 5 6 "
     ]
    }
   ],
   "source": [
    "i=1\n",
    "while(i<=6):\n",
    "    print(i, end=\" \")\n",
    "    i+=1"
   ]
  },
  {
   "cell_type": "markdown",
   "id": "c37d2894",
   "metadata": {},
   "source": [
    "### Qn.2 Calculate the sum of numbers from 1 to 10 using a while loop."
   ]
  },
  {
   "cell_type": "code",
   "execution_count": 4,
   "id": "9e795ec1",
   "metadata": {},
   "outputs": [
    {
     "name": "stdout",
     "output_type": "stream",
     "text": [
      "Sum :  55\n"
     ]
    }
   ],
   "source": [
    "sum=0\n",
    "i=1\n",
    "while(i<=10):\n",
    "    sum+=i\n",
    "    i+=1\n",
    "print(\"Sum : \",sum)"
   ]
  },
  {
   "cell_type": "markdown",
   "id": "078d8111",
   "metadata": {},
   "source": [
    "### Qn.3 Calculate the factorial of a number using a for loop."
   ]
  },
  {
   "cell_type": "code",
   "execution_count": 21,
   "id": "80c5edcd",
   "metadata": {},
   "outputs": [
    {
     "name": "stdout",
     "output_type": "stream",
     "text": [
      "Enter num : 5\n",
      "120\n"
     ]
    }
   ],
   "source": [
    "num=int(input(\"Enter num : \"))\n",
    "fact=1\n",
    "for i in range(1,num+1):\n",
    "    fact=fact*i\n",
    "print(fact)"
   ]
  },
  {
   "cell_type": "markdown",
   "id": "7e3058a8",
   "metadata": {},
   "source": [
    "### Qn.4 Count the number of vowels in a string using a for loop."
   ]
  },
  {
   "cell_type": "code",
   "execution_count": 23,
   "id": "2d8de4c4",
   "metadata": {},
   "outputs": [
    {
     "name": "stdout",
     "output_type": "stream",
     "text": [
      "Enter String : cauliflower\n",
      "Total vowels in string : 5\n"
     ]
    }
   ],
   "source": [
    "string=input(\"Enter String : \")\n",
    "count=0\n",
    "vowels=['a','A','e','E','i','I','o','O','u','U']\n",
    "for i in string:\n",
    "    if(i in vowels):\n",
    "        count+=1\n",
    "print(f\"Total vowels in string : {count}\")"
   ]
  },
  {
   "cell_type": "markdown",
   "id": "5d6da4ef",
   "metadata": {},
   "source": [
    "### Qn.5 Print a pattern using nested loops."
   ]
  },
  {
   "cell_type": "code",
   "execution_count": 27,
   "id": "9dd41dc7",
   "metadata": {},
   "outputs": [
    {
     "name": "stdout",
     "output_type": "stream",
     "text": [
      "* \n",
      "* * \n",
      "* * * \n",
      "* * * * \n",
      "* * * * * \n"
     ]
    }
   ],
   "source": [
    "for i in range(1,6):\n",
    "    for j in range(1,i+1):\n",
    "        print(\"*\",end=' ')\n",
    "    print()\n",
    "    "
   ]
  },
  {
   "cell_type": "markdown",
   "id": "db188690",
   "metadata": {},
   "source": [
    "### Qn.6 Generate a multiplication table using nested loops."
   ]
  },
  {
   "cell_type": "code",
   "execution_count": 37,
   "id": "5bba1e2a",
   "metadata": {},
   "outputs": [
    {
     "name": "stdout",
     "output_type": "stream",
     "text": [
      "Multiplication Table:\n",
      "   1    2    3    4    5    6    7    8    9   10 \n",
      "   2    4    6    8   10   12   14   16   18   20 \n",
      "   3    6    9   12   15   18   21   24   27   30 \n",
      "   4    8   12   16   20   24   28   32   36   40 \n",
      "   5   10   15   20   25   30   35   40   45   50 \n",
      "   6   12   18   24   30   36   42   48   54   60 \n",
      "   7   14   21   28   35   42   49   56   63   70 \n",
      "   8   16   24   32   40   48   56   64   72   80 \n",
      "   9   18   27   36   45   54   63   72   81   90 \n",
      "  10   20   30   40   50   60   70   80   90  100 \n"
     ]
    }
   ],
   "source": [
    "def multiplication_table(size):\n",
    "    print(\"Multiplication Table:\")\n",
    "    \n",
    "    for i in range(1, size + 1):\n",
    "        for j in range(1, size + 1):\n",
    "            print(f\"{i * j:4}\", end=' ')\n",
    "        print()\n",
    "        \n",
    "size = 10\n",
    "multiplication_table(size)\n"
   ]
  },
  {
   "cell_type": "code",
   "execution_count": null,
   "id": "ee50052f",
   "metadata": {},
   "outputs": [],
   "source": []
  }
 ],
 "metadata": {
  "kernelspec": {
   "display_name": "Python 3 (ipykernel)",
   "language": "python",
   "name": "python3"
  },
  "language_info": {
   "codemirror_mode": {
    "name": "ipython",
    "version": 3
   },
   "file_extension": ".py",
   "mimetype": "text/x-python",
   "name": "python",
   "nbconvert_exporter": "python",
   "pygments_lexer": "ipython3",
   "version": "3.11.4"
  }
 },
 "nbformat": 4,
 "nbformat_minor": 5
}

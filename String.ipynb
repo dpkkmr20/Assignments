{
 "cells": [
  {
   "cell_type": "markdown",
   "id": "b936219c",
   "metadata": {},
   "source": [
    "### Qn.1 What is the purpose of the len() function in Python, and how can it be used with strings?"
   ]
  },
  {
   "cell_type": "markdown",
   "id": "838c9049",
   "metadata": {},
   "source": [
    "The len() function in Python returns the number of items in an object. \n",
    "When used with strings, it returns the number of characters in the string.\n",
    "\n",
    "Example :- \n",
    "\n",
    "text = \"Hello, world!\"\n",
    "\n",
    "length = len(text)\n",
    "\n",
    "print(length)  # Output: 13\n"
   ]
  },
  {
   "cell_type": "markdown",
   "id": "a75b6ae3",
   "metadata": {},
   "source": [
    "### Qn.2 How can you concatenate two or more strings in Python, and can you provide an example of string concatenation?"
   ]
  },
  {
   "cell_type": "markdown",
   "id": "e4238b1c",
   "metadata": {},
   "source": [
    "Using + operator, this operation combines the multiple strings into single strings.\n",
    "\n",
    "Example :-\n",
    "    \n",
    "string1 = \"Hello\"\n",
    "\n",
    "string2 = \"World\"\n",
    "\n",
    "result = string1 + \" \" + string2\n",
    "\n",
    "print(result)  # Output: \"Hello World\"\n",
    "\n"
   ]
  },
  {
   "cell_type": "code",
   "execution_count": null,
   "id": "006ef10d",
   "metadata": {},
   "outputs": [],
   "source": [
    " What is string slicing in Python, and how can you extract a portion of a string using this method?"
   ]
  },
  {
   "cell_type": "markdown",
   "id": "47e9b2bf",
   "metadata": {},
   "source": [
    "String slicing in Python allows you to extract a portion of a string by specifying a start \n",
    "and end index. The syntax for slicing is string[start:end], where:\n",
    "    start is the index where the slice begins(inclusive).\n",
    "    end is the index where the slice ends(exclusive).\n",
    "    \n",
    "Example:-\n",
    "\n",
    "text = \"Hello, World!\"\n",
    "\n",
    "slice1 = text[0:5]   # Extracts from index 0 to 4\n",
    "\n",
    "slice2 = text[7:]    # Extracts from index 7 to the end\n",
    "\n",
    "slice3 = text[:5]    # Extracts from the start to index 4\n",
    "\n",
    "slice4 = text[::2]   # Extracts every second character\n",
    "\n",
    "print(slice1)  # Output: \"Hello\"\n",
    "\n",
    "print(slice2)  # Output: \"World!\"\n",
    "\n",
    "print(slice3)  # Output: \"Hello\"\n",
    "\n",
    "print(slice4)  # Output: \"Hlo ol!\"\n",
    "\n",
    "    "
   ]
  },
  {
   "cell_type": "markdown",
   "id": "9686fde7",
   "metadata": {},
   "source": [
    "### Qn.4 How can you change the case of a string in Python, and can you provide examples of both making a string all uppercase and all lowercase?"
   ]
  },
  {
   "cell_type": "markdown",
   "id": "7fb88d40",
   "metadata": {},
   "source": [
    "Using lower()and upper() methods.\n",
    "\n",
    "Example :-\n",
    "    \n",
    "text = \"Hello, World!\"\n",
    "\n",
    "upper_text = text.upper()\n",
    "\n",
    "print(upper_text)  # Output: \"HELLO, WORLD!\"\n",
    "\n",
    "\n",
    "lower_text = text.lower()\n",
    "\n",
    "print(lower_text)  # Output: \"hello, world!\"\n"
   ]
  },
  {
   "cell_type": "markdown",
   "id": "295fef22",
   "metadata": {},
   "source": [
    "### Qn.5 What does the split() method do in Python, and how can you split a string using a specific delimiter?"
   ]
  },
  {
   "cell_type": "markdown",
   "id": "f5222f81",
   "metadata": {},
   "source": [
    "The split() method in Python splits a string into a list of substrings based on a specified delimiter. \n",
    "By default, it uses any whitespace (space, newline, etc.) as the delimiter.\n",
    "\n",
    "Example:-\n",
    "    \n",
    "text = \"apple,banana,cherry\"\n",
    "\n",
    "fruits = text.split(',') # Split using a comma as the delimiter\n",
    "\n",
    "print(fruits)  # Output: ['apple', 'banana', 'cherry']\n"
   ]
  },
  {
   "cell_type": "code",
   "execution_count": null,
   "id": "3027473b",
   "metadata": {},
   "outputs": [],
   "source": []
  }
 ],
 "metadata": {
  "kernelspec": {
   "display_name": "Python 3 (ipykernel)",
   "language": "python",
   "name": "python3"
  },
  "language_info": {
   "codemirror_mode": {
    "name": "ipython",
    "version": 3
   },
   "file_extension": ".py",
   "mimetype": "text/x-python",
   "name": "python",
   "nbconvert_exporter": "python",
   "pygments_lexer": "ipython3",
   "version": "3.11.4"
  }
 },
 "nbformat": 4,
 "nbformat_minor": 5
}

{
 "cells": [
  {
   "cell_type": "markdown",
   "id": "06022d1d",
   "metadata": {},
   "source": [
    "### Qn.1 Explain the significance of Python keywords and provide examples of five keywords."
   ]
  },
  {
   "cell_type": "markdown",
   "id": "50cf49d1",
   "metadata": {},
   "source": [
    "Python keywords are reserved words that have specific meanings and purposes in the language. \n",
    "They are used to define the structure and syntax of Python programs and cannot be used as variable names. \n",
    "Keywords control the flow, perform operations, or define structures like functions and loops.\n",
    "\n",
    "Examples:\n",
    "1. if: Used to define a conditional statement.\n",
    "   Example: if x > 10: print(\"x is greater than 10\")\n",
    "2. for: Used to create a loop.\n",
    "   Example: for i in range(5): print(i)\n",
    "3. def: Used to define a function.\n",
    "   Example: def greet(): print(\"Hello!\")\n",
    "4. return: Exits a function and returns a value.\n",
    "   Example: return x + y\n",
    "5. class: Defines a new class.\n",
    "   Example: class Car: pass"
   ]
  },
  {
   "cell_type": "markdown",
   "id": "42359d72",
   "metadata": {},
   "source": [
    "### Qn.2 Describe the rules for defining identifiers in Python and provide an example."
   ]
  },
  {
   "cell_type": "markdown",
   "id": "7c12fb06",
   "metadata": {},
   "source": [
    "Identifiers in Python are names given to variables, functions, classes, etc. The rules for defining them are:\n",
    "\n",
    "Can contain letters (a-z, A-Z), digits (0-9), and underscores (_)\n",
    "Cannot start with a digit\n",
    "Cannot use Python keywords\n",
    "Are case-sensitive (e.g., myVar and myvar are different)\n",
    "\n",
    "Example: my_variable = 10  # Valid identifier\n",
    " "
   ]
  },
  {
   "cell_type": "markdown",
   "id": "795a8e3a",
   "metadata": {},
   "source": [
    "### Qn.3 What are comments in Python, and why are they useful? Provide an example."
   ]
  },
  {
   "cell_type": "markdown",
   "id": "951a3484",
   "metadata": {},
   "source": [
    "Comments in Python are lines of text in the code that are ignored during execution. \n",
    "They are useful for explaining code, making it easier to understand for others or for future reference.\n",
    "\n",
    "Example:-\n",
    "This is a comment explaining the code below\n",
    "x = 5  # Assigns the value 5 to the variable x\n"
   ]
  },
  {
   "cell_type": "markdown",
   "id": "7a63f21c",
   "metadata": {},
   "source": [
    "### Qn.4 Why is proper indentation important in Python?"
   ]
  },
  {
   "cell_type": "code",
   "execution_count": null,
   "id": "1d6b0904",
   "metadata": {},
   "outputs": [],
   "source": [
    "Proper indentation is crucial in Python because it defines the structure and flow of the code. \n",
    "Unlike other languages that use braces or keywords to define blocks, Python uses indentation to group statements. \n",
    "Incorrect indentation leads to syntax errors."
   ]
  },
  {
   "cell_type": "markdown",
   "id": "5eda753d",
   "metadata": {},
   "source": [
    "### Qn.5 What happens if indentation is incorrect in Python?"
   ]
  },
  {
   "cell_type": "code",
   "execution_count": null,
   "id": "dd32a5bd",
   "metadata": {},
   "outputs": [],
   "source": [
    "If indentation is incorrect in Python, it raises an IndentationError or a SyntaxError. \n",
    "This prevents the code from running, as Python relies on indentation to determine the structure and flow of the program."
   ]
  },
  {
   "cell_type": "markdown",
   "id": "a126be38",
   "metadata": {},
   "source": [
    "### Qn.6 Differentiate between expression and statement in Python with examples."
   ]
  },
  {
   "cell_type": "markdown",
   "id": "4a5350da",
   "metadata": {},
   "source": [
    "Expression: A piece of code that evaluates to a value.\n",
    "    Example: 5 + 3 or x * 2\n",
    "    It returns a result (e.g., 8 for 5 + 3).\n",
    "\n",
    "Statement: A complete line of code that performs an action, like creating a variable, printing, or controlling the flow.\n",
    "    Example: x = 5 + 3 or print(x)\n",
    "    It performs an operation but doesn't necessarily return a value.\n"
   ]
  },
  {
   "cell_type": "code",
   "execution_count": null,
   "id": "e2fcfad4",
   "metadata": {},
   "outputs": [],
   "source": []
  }
 ],
 "metadata": {
  "kernelspec": {
   "display_name": "Python 3 (ipykernel)",
   "language": "python",
   "name": "python3"
  },
  "language_info": {
   "codemirror_mode": {
    "name": "ipython",
    "version": 3
   },
   "file_extension": ".py",
   "mimetype": "text/x-python",
   "name": "python",
   "nbconvert_exporter": "python",
   "pygments_lexer": "ipython3",
   "version": "3.11.4"
  }
 },
 "nbformat": 4,
 "nbformat_minor": 5
}

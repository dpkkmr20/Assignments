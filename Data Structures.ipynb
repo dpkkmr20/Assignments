{
 "cells": [
  {
   "cell_type": "markdown",
   "id": "4d785faa",
   "metadata": {},
   "source": [
    "### Qn.1 Why might you choose a deque from the collections module to implement a queue instead of using a regular Python list?"
   ]
  },
  {
   "cell_type": "markdown",
   "id": "f934650f",
   "metadata": {},
   "source": [
    "1. Efficiency of Operations: Deque provides O(1) time complexity for append and pop operations from both ends. \n",
    "   In contrast, appending to or popping from the beginning of a list takes O(n) time because it involves shifting elements.\n",
    "2. Memory Effecient : Deque is more memory-efficient for frequent end operations, while list May be less efficient for \n",
    "   frequent front operations."
   ]
  },
  {
   "cell_type": "markdown",
   "id": "2076b5e0",
   "metadata": {},
   "source": [
    "### Qn.2 Can you explain a real-world scenario where using a stack would be a more practical choice than a list for data storage and retrieval?"
   ]
  },
  {
   "cell_type": "markdown",
   "id": "04f8c4b3",
   "metadata": {},
   "source": [
    "In a restaurant kitchen, plates are stacked on a shelf in a way that the most recently added plate is on top.\n",
    "When a server needs a plate, they take the top plate off the stack. This operation is similar to popping an item from a stack.\n",
    "\n",
    "The stack follows a LIFO order where the most recently added plate is the first one to be used.\n",
    "This is practical in a kitchen where the most recently cleaned plates are needed first.\n",
    "The server can quickly access the top plate without having to move other plates, \n",
    "which mirrors the stack's O(1) time complexity for push and pop operations."
   ]
  },
  {
   "cell_type": "markdown",
   "id": "44948b7c",
   "metadata": {},
   "source": [
    "### Qn.3What is the primary advantage of using sets in Python, and in what type of problem-solving scenarios are they most useful?"
   ]
  },
  {
   "cell_type": "markdown",
   "id": "7d0b93d5",
   "metadata": {},
   "source": [
    "Advantages and uses:-\n",
    "\n",
    "Efficient Membership Testing: Quickly check if an item is in the set without needing to iterate through all elements.\n",
    "\n",
    "Elimination of Duplicates: Automatically removes duplicate items when a new item is added, ensuring that all elements in \n",
    "the set are unique.\n",
    "\n",
    "Set Operations: Supports mathematical set operations like union, intersection, difference, and symmetric difference efficiently .\n",
    "    "
   ]
  },
  {
   "cell_type": "markdown",
   "id": "c297193f",
   "metadata": {},
   "source": [
    "### Qn.4 When might you choose to use an array instead of a list for storing numerical data in Python? What benefits do arrays offer in this context?\n"
   ]
  },
  {
   "cell_type": "markdown",
   "id": "b5a54db4",
   "metadata": {},
   "source": [
    "Performance : Arrays from libraries linke numpy are implemnted in C and optimized \n",
    "              for numerical operations, which makes them significantly faster than lists for operations.\n",
    "        \n",
    "Memory Effeciency : Array use less memory as compared to store elements in contigious block of mrmoryand uses a fixed datatype.\n",
    "    \n",
    "Advanced Functions : Numpy provides a rich set of functions for numerical operations, including mathematical functions, statistical functions and linear algebra operations, which are not available with standard python.\n",
    "    \n",
    "Support for Multidomensional Arrays : Array can easily handle multidimensional data (ex. matrices), allowing for more comples data structure and operations, such as matrix multiplication, reshaping and more complex operations.    "
   ]
  },
  {
   "cell_type": "markdown",
   "id": "332d0f06",
   "metadata": {},
   "source": [
    "### Qn.5 In Python, what's the primary difference between dictionaries and lists, and how does this difference  impact their use cases in programming?"
   ]
  },
  {
   "cell_type": "markdown",
   "id": "17ba5b28",
   "metadata": {},
   "source": [
    "The difference lies in the access methods and their way of storing the data.\n",
    "\n",
    "Dictionaries:-\n",
    "    \n",
    "    Data organization : key-Values pairs\n",
    "    \n",
    "    Accessible : With the help of keys.\n",
    "    \n",
    "    Use Cases : Fast access to items by unique keys.\n",
    "\n",
    "Lists:-\n",
    "    \n",
    "    Data Organization : Ordered sequence.\n",
    "    \n",
    "    Accessible : It has fast accessibility by the index but slow accessibility     by value.\n",
    "    \n",
    "    Use Cases : Sequential collections, maintaining item order(ex. task lists)   "
   ]
  },
  {
   "cell_type": "code",
   "execution_count": null,
   "id": "e466ffe3",
   "metadata": {},
   "outputs": [],
   "source": []
  },
  {
   "cell_type": "code",
   "execution_count": null,
   "id": "002af29f",
   "metadata": {},
   "outputs": [],
   "source": []
  }
 ],
 "metadata": {
  "kernelspec": {
   "display_name": "Python 3 (ipykernel)",
   "language": "python",
   "name": "python3"
  },
  "language_info": {
   "codemirror_mode": {
    "name": "ipython",
    "version": 3
   },
   "file_extension": ".py",
   "mimetype": "text/x-python",
   "name": "python",
   "nbconvert_exporter": "python",
   "pygments_lexer": "ipython3",
   "version": "3.11.4"
  }
 },
 "nbformat": 4,
 "nbformat_minor": 5
}
